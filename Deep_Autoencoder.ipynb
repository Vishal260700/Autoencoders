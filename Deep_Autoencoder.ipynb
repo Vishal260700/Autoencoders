{
  "nbformat": 4,
  "nbformat_minor": 0,
  "metadata": {
    "colab": {
      "name": "Deep Autoencoder.ipynb",
      "version": "0.3.2",
      "provenance": [],
      "collapsed_sections": []
    },
    "kernelspec": {
      "name": "python3",
      "display_name": "Python 3"
    }
  },
  "cells": [
    {
      "metadata": {
        "id": "R3VdEqcr9gpo",
        "colab_type": "code",
        "outputId": "f4bb390c-3603-4ae6-8d37-0bb54153eba3",
        "colab": {
          "base_uri": "https://localhost:8080/",
          "height": 34
        }
      },
      "cell_type": "code",
      "source": [
        "# call-in dependencies\n",
        "import numpy as np\n",
        "import tensorflow as tf\n",
        "from tensorflow import keras\n",
        "from keras.datasets import mnist\n",
        "from keras.layers import Input, Dense\n",
        "from keras.models import Model\n",
        "import matplotlib.pyplot as plt"
      ],
      "execution_count": 0,
      "outputs": [
        {
          "output_type": "stream",
          "text": [
            "Using TensorFlow backend.\n"
          ],
          "name": "stderr"
        }
      ]
    },
    {
      "metadata": {
        "id": "SBkSEOb3-pKW",
        "colab_type": "code",
        "outputId": "0fc75c08-b7e0-479b-f127-26a782d6b9a8",
        "colab": {
          "base_uri": "https://localhost:8080/",
          "height": 50
        }
      },
      "cell_type": "code",
      "source": [
        "# lets get our data\n",
        "(x_train , _) , (x_test , _) = mnist.load_data()\n",
        "\n",
        "# normalization\n",
        "x_train = x_train / 255.0\n",
        "x_test = x_test / 255.0\n",
        "\n",
        "# vectorizing into a 784x1 vector\n",
        "x_train = x_train.reshape((len(x_train), np.prod(x_train.shape[1:])))\n",
        "x_test = x_test.reshape((len(x_test), np.prod(x_test.shape[1:])))\n",
        "\n",
        "print(x_train.shape)\n",
        "print(x_test.shape)"
      ],
      "execution_count": 0,
      "outputs": [
        {
          "output_type": "stream",
          "text": [
            "(60000, 784)\n",
            "(10000, 784)\n"
          ],
          "name": "stdout"
        }
      ]
    },
    {
      "metadata": {
        "id": "ditfU8mo_PVY",
        "colab_type": "code",
        "colab": {}
      },
      "cell_type": "code",
      "source": [
        "# lets architect our model\n",
        "\n",
        "input_img = Input(shape = (784 , )) # input layer for our model\n",
        "encoder_dim = 32 # compression factor is 24.5 i.e. 784/32\n",
        "\n",
        "# other importnat layers of our model\n",
        "encoded = Dense(128 , activation = 'relu')(input_img)\n",
        "encoded = Dense(64 , activation = 'relu')(encoded)\n",
        "encoded = Dense(32 , activation = 'relu')(encoded)\n",
        "\n",
        "decoded = Dense(64 , activation = 'relu')(encoded)\n",
        "decoded = Dense(128 , activation = 'relu')(decoded)\n",
        "decoded = Dense(784 , activation = 'sigmoid')(decoded)\n",
        "\n",
        "autoencoder = Model(input_img , decoded)"
      ],
      "execution_count": 0,
      "outputs": []
    },
    {
      "metadata": {
        "id": "QE7hACarAGgp",
        "colab_type": "code",
        "colab": {}
      },
      "cell_type": "code",
      "source": [
        "# lets compile our model\n",
        "autoencoder.compile(loss = 'binary_crossentropy' , optimizer = \"adadelta\")"
      ],
      "execution_count": 0,
      "outputs": []
    },
    {
      "metadata": {
        "id": "1uglbVTBAT6f",
        "colab_type": "code",
        "outputId": "fed014f7-ebe3-4f44-ae27-5697e0c64994",
        "colab": {
          "base_uri": "https://localhost:8080/",
          "height": 991
        }
      },
      "cell_type": "code",
      "source": [
        "# lets train our model\n",
        "autoencoder.fit(x_train , x_train,\n",
        "                epochs = 100,\n",
        "                batch_size = 256,\n",
        "                shuffle = True,\n",
        "                validation_data = (x_test , x_test))"
      ],
      "execution_count": 0,
      "outputs": [
        {
          "output_type": "stream",
          "text": [
            "60000/60000 [==============================] - 6s 98us/step - loss: 0.1139 - val_loss: 0.1121\n",
            "Epoch 73/100\n",
            "60000/60000 [==============================] - 6s 98us/step - loss: 0.1137 - val_loss: 0.1140\n",
            "Epoch 74/100\n",
            "60000/60000 [==============================] - 6s 99us/step - loss: 0.1134 - val_loss: 0.1118\n",
            "Epoch 75/100\n",
            "60000/60000 [==============================] - 6s 104us/step - loss: 0.1132 - val_loss: 0.1160\n",
            "Epoch 76/100\n",
            "60000/60000 [==============================] - 6s 105us/step - loss: 0.1129 - val_loss: 0.1118\n",
            "Epoch 77/100\n",
            "60000/60000 [==============================] - 6s 98us/step - loss: 0.1127 - val_loss: 0.1145\n",
            "Epoch 78/100\n",
            "60000/60000 [==============================] - 6s 99us/step - loss: 0.1127 - val_loss: 0.1122\n",
            "Epoch 79/100\n",
            "60000/60000 [==============================] - 6s 99us/step - loss: 0.1125 - val_loss: 0.1111\n",
            "Epoch 80/100\n",
            "60000/60000 [==============================] - 6s 100us/step - loss: 0.1124 - val_loss: 0.1105\n",
            "Epoch 81/100\n",
            "60000/60000 [==============================] - 6s 99us/step - loss: 0.1119 - val_loss: 0.1107\n",
            "Epoch 82/100\n",
            "60000/60000 [==============================] - 6s 98us/step - loss: 0.1117 - val_loss: 0.1088\n",
            "Epoch 83/100\n",
            "60000/60000 [==============================] - 6s 97us/step - loss: 0.1115 - val_loss: 0.1110\n",
            "Epoch 84/100\n",
            "60000/60000 [==============================] - 6s 97us/step - loss: 0.1116 - val_loss: 0.1088\n",
            "Epoch 85/100\n",
            "60000/60000 [==============================] - 6s 100us/step - loss: 0.1115 - val_loss: 0.1134\n",
            "Epoch 86/100\n",
            "60000/60000 [==============================] - 6s 100us/step - loss: 0.1110 - val_loss: 0.1130\n",
            "Epoch 87/100\n",
            "60000/60000 [==============================] - 6s 99us/step - loss: 0.1111 - val_loss: 0.1077\n",
            "Epoch 88/100\n",
            "60000/60000 [==============================] - 6s 98us/step - loss: 0.1108 - val_loss: 0.1115\n",
            "Epoch 89/100\n",
            "60000/60000 [==============================] - 6s 96us/step - loss: 0.1105 - val_loss: 0.1072\n",
            "Epoch 90/100\n",
            "60000/60000 [==============================] - 6s 97us/step - loss: 0.1105 - val_loss: 0.1094\n",
            "Epoch 91/100\n",
            "60000/60000 [==============================] - 6s 97us/step - loss: 0.1105 - val_loss: 0.1110\n",
            "Epoch 92/100\n",
            "60000/60000 [==============================] - 6s 98us/step - loss: 0.1103 - val_loss: 0.1106\n",
            "Epoch 93/100\n",
            "60000/60000 [==============================] - 6s 95us/step - loss: 0.1101 - val_loss: 0.1115\n",
            "Epoch 94/100\n",
            "60000/60000 [==============================] - 6s 96us/step - loss: 0.1101 - val_loss: 0.1074\n",
            "Epoch 95/100\n",
            "60000/60000 [==============================] - 6s 96us/step - loss: 0.1098 - val_loss: 0.1116\n",
            "Epoch 96/100\n",
            "60000/60000 [==============================] - 6s 96us/step - loss: 0.1097 - val_loss: 0.1090\n",
            "Epoch 97/100\n",
            "60000/60000 [==============================] - 6s 96us/step - loss: 0.1096 - val_loss: 0.1083\n",
            "Epoch 98/100\n",
            "60000/60000 [==============================] - 6s 97us/step - loss: 0.1097 - val_loss: 0.1068\n",
            "Epoch 99/100\n",
            "60000/60000 [==============================] - 6s 100us/step - loss: 0.1092 - val_loss: 0.1095\n",
            "Epoch 100/100\n",
            "60000/60000 [==============================] - 6s 102us/step - loss: 0.1091 - val_loss: 0.1074\n"
          ],
          "name": "stdout"
        },
        {
          "output_type": "execute_result",
          "data": {
            "text/plain": [
              "<keras.callbacks.History at 0x7f26024c39e8>"
            ]
          },
          "metadata": {
            "tags": []
          },
          "execution_count": 5
        }
      ]
    },
    {
      "metadata": {
        "id": "6DPb-sztAhtd",
        "colab_type": "code",
        "colab": {}
      },
      "cell_type": "code",
      "source": [
        "# lets seperate our main model into 2 for further visualization\n",
        "encoder = Model(input_img , encoded)\n",
        "\n",
        "# seperating out the results one by one I know its silly and do correct me if there is any other way for such result exploitation\n",
        "encoder_input = Input(shape = (encoder_dim , ))\n",
        "decoding_layer1 = autoencoder.layers[-3] \n",
        "decoder1 = Model(encoder_input , decoding_layer1(encoder_input))\n",
        "\n",
        "encoder_input1 = Input(shape = (64 , ))\n",
        "decoding_layer2 = autoencoder.layers[-2]\n",
        "decoder2 = Model(encoder_input1 , decoding_layer2(encoder_input1))\n",
        "\n",
        "encoder_input2 = Input(shape = (128 , ))\n",
        "decoding_layer3 = autoencoder.layers[-1]\n",
        "decoder3 = Model(encoder_input2 , decoding_layer3(encoder_input2))"
      ],
      "execution_count": 0,
      "outputs": []
    },
    {
      "metadata": {
        "id": "6scS8BE5Bid0",
        "colab_type": "code",
        "colab": {}
      },
      "cell_type": "code",
      "source": [
        "# the data fro visualization by using the 2 model we designed above\n",
        "encoded_imgs = encoder.predict(x_test)\n",
        "decoded_imgs1 = decoder1.predict(encoded_imgs)\n",
        "decoded_imgs2 = decoder2.predict(decoded_imgs1)\n",
        "decoded_imgs3 = decoder3.predict(decoded_imgs2)"
      ],
      "execution_count": 0,
      "outputs": []
    },
    {
      "metadata": {
        "id": "0UBpEIy0BuXW",
        "colab_type": "code",
        "outputId": "101df688-2da7-47ef-c90d-6d17bf4fa7ba",
        "colab": {
          "base_uri": "https://localhost:8080/",
          "height": 244
        }
      },
      "cell_type": "code",
      "source": [
        "# we will now visualse the results and their accuracy\n",
        "n = 10  \n",
        "plt.figure(figsize=(20, 4))\n",
        "for i in range(n):\n",
        "    # display original\n",
        "    ax = plt.subplot(2, n, i + 1)\n",
        "    plt.imshow(x_test[i].reshape(28, 28))\n",
        "    plt.gray()\n",
        "    ax.get_xaxis().set_visible(False)\n",
        "    ax.get_yaxis().set_visible(False)\n",
        "\n",
        "    # display reconstruction\n",
        "    ax = plt.subplot(2, n, i + 1 + n)\n",
        "    plt.imshow(decoded_imgs3[i].reshape(28, 28))\n",
        "    plt.gray()\n",
        "    ax.get_xaxis().set_visible(False)\n",
        "    ax.get_yaxis().set_visible(False)\n",
        "plt.show()"
      ],
      "execution_count": 0,
      "outputs": [
        {
          "output_type": "display_data",
          "data": {
            "image/png": "[encoded data removed]",
            "text/plain": [
              "<matplotlib.figure.Figure at 0x7f25fc12c710>"
            ]
          },
          "metadata": {
            "tags": []
          }
        }
      ]
    },
    {
      "metadata": {
        "id": "dJPx3q9eBwky",
        "colab_type": "code",
        "outputId": "659767fe-fd61-4ab0-c284-a377306e34de",
        "colab": {
          "base_uri": "https://localhost:8080/",
          "height": 34
        }
      },
      "cell_type": "code",
      "source": [
        "change = encoded_imgs.mean() \n",
        "print(change)"
      ],
      "execution_count": 0,
      "outputs": [
        {
          "output_type": "stream",
          "text": [
            "9.786369\n"
          ],
          "name": "stdout"
        }
      ]
    },
    {
      "metadata": {
        "id": "M7YaXWVrByLQ",
        "colab_type": "code",
        "colab": {}
      },
      "cell_type": "code",
      "source": [
        "# just following the trend of checking the mean\n",
        "# so as you can see the quality of generated images are quite remarkable in comparision to any other autoencoder we have so far designed"
      ],
      "execution_count": 0,
      "outputs": []
    }
  ]
}