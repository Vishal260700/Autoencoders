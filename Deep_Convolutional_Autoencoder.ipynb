{
  "nbformat": 4,
  "nbformat_minor": 0,
  "metadata": {
    "colab": {
      "name": "Deep Convolutional Autoencoder.ipynb",
      "version": "0.3.2",
      "provenance": [],
      "collapsed_sections": []
    },
    "kernelspec": {
      "name": "python3",
      "display_name": "Python 3"
    },
    "accelerator": "GPU"
  },
  "cells": [
    {
      "metadata": {
        "id": "o-TRmLolzYIU",
        "colab_type": "code",
        "colab": {}
      },
      "cell_type": "code",
      "source": [
        "# call-in all the dependencies\n",
        "import numpy as np\n",
        "import tensorflow as tf\n",
        "import matplotlib.pyplot as plt\n",
        "from tensorflow import keras\n",
        "from keras.layers import Input, Dense, MaxPooling2D, UpSampling2D, Conv2D\n",
        "from keras.models import Model\n",
        "from keras.callbacks import TensorBoard\n",
        "from keras.datasets import mnist"
      ],
      "execution_count": 0,
      "outputs": []
    },
    {
      "metadata": {
        "id": "0XWmkhi70Bry",
        "colab_type": "code",
        "outputId": "0e034517-ae1d-4d6d-b373-498ae5f6a900",
        "colab": {
          "base_uri": "https://localhost:8080/",
          "height": 50
        }
      },
      "cell_type": "code",
      "source": [
        "# lets get our data\n",
        "(x_train , _), (x_test, _) = mnist.load_data()\n",
        "\n",
        "# normalization\n",
        "x_train = x_train/255.0\n",
        "x_test = x_test/255.0\n",
        "\n",
        "# reshaping into 2d vector\n",
        "x_train = np.reshape(x_train , (len(x_train),28,28,1))\n",
        "x_test = np.reshape(x_test , (len(x_test),28,28,1)) \n",
        "\n",
        "print(x_train.shape)\n",
        "print(x_test.shape)"
      ],
      "execution_count": 0,
      "outputs": [
        {
          "output_type": "stream",
          "text": [
            "(60000, 28, 28, 1)\n",
            "(10000, 28, 28, 1)\n"
          ],
          "name": "stdout"
        }
      ]
    },
    {
      "metadata": {
        "id": "vDOcEQ8A0pgt",
        "colab_type": "code",
        "colab": {}
      },
      "cell_type": "code",
      "source": [
        "# lets make our model\n",
        "\n",
        "input_img = Input(shape = (28,28,1))\\\n",
        "\n",
        "# Encoder layer\n",
        "x = Conv2D(16, (3,3), activation = 'relu', padding = 'same')(input_img)\n",
        "x = MaxPooling2D((2,2), padding = 'same')(x)\n",
        "x = Conv2D(8, (3,3), activation = 'relu', padding = 'same')(x)\n",
        "x = MaxPooling2D((2,2), padding = 'same')(x)\n",
        "x = Conv2D(8, (3,3), activation = 'relu', padding = 'same')(x)\n",
        "encoder = MaxPooling2D((2,2), padding = 'same')(x)\n",
        "\n",
        "# Decoder layer\n",
        "x = Conv2D(8, (3,3), activation = 'relu', padding = 'same')(encoder)\n",
        "x = UpSampling2D((2, 2))(x)\n",
        "x = Conv2D(8, (3,3), activation = 'relu', padding = 'same')(x)\n",
        "x = UpSampling2D((2, 2))(x)\n",
        "x = Conv2D(16, (3,3), activation = 'relu')(x)\n",
        "x = UpSampling2D((2, 2))(x)\n",
        "decoder = Conv2D(1, (3,3), activation = 'sigmoid', padding = 'same')(x)\n",
        "\n",
        "# finalising model architecture\n",
        "autoencoder = Model(input_img , decoder)\n",
        "autoencoder.compile(loss = 'binary_crossentropy', optimizer = \"adadelta\")"
      ],
      "execution_count": 0,
      "outputs": []
    },
    {
      "metadata": {
        "id": "Mi5OWj0_2KwD",
        "colab_type": "code",
        "outputId": "da46fc63-9fdd-47fa-9be9-f9fc373c0671",
        "colab": {
          "base_uri": "https://localhost:8080/",
          "height": 1730
        }
      },
      "cell_type": "code",
      "source": [
        "# lets train our model\n",
        "autoencoder.fit(x_train, x_train,\n",
        "                epochs = 50,\n",
        "                batch_size = 256, # can also take 128\n",
        "                shuffle = True,\n",
        "                validation_data = (x_test, x_test),\n",
        "                callbacks=[TensorBoard(log_dir='/tmp/autoencoder')])"
      ],
      "execution_count": 0,
      "outputs": [
        {
          "output_type": "stream",
          "text": [
            "Train on 60000 samples, validate on 10000 samples\n",
            "Epoch 1/50\n",
            "60000/60000 [==============================] - 5s 82us/step - loss: 0.2586 - val_loss: 0.2000\n",
            "Epoch 2/50\n",
            "60000/60000 [==============================] - 4s 75us/step - loss: 0.1864 - val_loss: 0.1816\n",
            "Epoch 3/50\n",
            "60000/60000 [==============================] - 4s 75us/step - loss: 0.1679 - val_loss: 0.1632\n",
            "Epoch 4/50\n",
            "60000/60000 [==============================] - 4s 75us/step - loss: 0.1553 - val_loss: 0.1466\n",
            "Epoch 5/50\n",
            "60000/60000 [==============================] - 4s 75us/step - loss: 0.1471 - val_loss: 0.1409\n",
            "Epoch 6/50\n",
            "60000/60000 [==============================] - 4s 75us/step - loss: 0.1416 - val_loss: 0.1426\n",
            "Epoch 7/50\n",
            "60000/60000 [==============================] - 4s 75us/step - loss: 0.1378 - val_loss: 0.1349\n",
            "Epoch 8/50\n",
            "60000/60000 [==============================] - 4s 75us/step - loss: 0.1345 - val_loss: 0.1371\n",
            "Epoch 9/50\n",
            "60000/60000 [==============================] - 4s 75us/step - loss: 0.1323 - val_loss: 0.1305\n",
            "Epoch 10/50\n",
            "60000/60000 [==============================] - 5s 76us/step - loss: 0.1301 - val_loss: 0.1292\n",
            "Epoch 11/50\n",
            "60000/60000 [==============================] - 5s 75us/step - loss: 0.1280 - val_loss: 0.1277\n",
            "Epoch 12/50\n",
            "60000/60000 [==============================] - 5s 75us/step - loss: 0.1267 - val_loss: 0.1234\n",
            "Epoch 13/50\n",
            "60000/60000 [==============================] - 5s 76us/step - loss: 0.1250 - val_loss: 0.1270\n",
            "Epoch 14/50\n",
            "60000/60000 [==============================] - 4s 74us/step - loss: 0.1238 - val_loss: 0.1200\n",
            "Epoch 15/50\n",
            "60000/60000 [==============================] - 4s 75us/step - loss: 0.1227 - val_loss: 0.1195\n",
            "Epoch 16/50\n",
            "60000/60000 [==============================] - 4s 75us/step - loss: 0.1217 - val_loss: 0.1176\n",
            "Epoch 17/50\n",
            "60000/60000 [==============================] - 5s 75us/step - loss: 0.1206 - val_loss: 0.1239\n",
            "Epoch 18/50\n",
            "60000/60000 [==============================] - 5s 75us/step - loss: 0.1194 - val_loss: 0.1190\n",
            "Epoch 19/50\n",
            "60000/60000 [==============================] - 4s 75us/step - loss: 0.1186 - val_loss: 0.1202\n",
            "Epoch 20/50\n",
            "60000/60000 [==============================] - 5s 75us/step - loss: 0.1180 - val_loss: 0.1156\n",
            "Epoch 21/50\n",
            "60000/60000 [==============================] - 4s 75us/step - loss: 0.1174 - val_loss: 0.1131\n",
            "Epoch 22/50\n",
            "60000/60000 [==============================] - 4s 75us/step - loss: 0.1168 - val_loss: 0.1189\n",
            "Epoch 23/50\n",
            "60000/60000 [==============================] - 5s 75us/step - loss: 0.1158 - val_loss: 0.1167\n",
            "Epoch 24/50\n",
            "60000/60000 [==============================] - 5s 76us/step - loss: 0.1153 - val_loss: 0.1150\n",
            "Epoch 25/50\n",
            "60000/60000 [==============================] - 5s 75us/step - loss: 0.1151 - val_loss: 0.1126\n",
            "Epoch 26/50\n",
            "60000/60000 [==============================] - 5s 75us/step - loss: 0.1143 - val_loss: 0.1123\n",
            "Epoch 27/50\n",
            "60000/60000 [==============================] - 4s 75us/step - loss: 0.1137 - val_loss: 0.1112\n",
            "Epoch 28/50\n",
            "60000/60000 [==============================] - 5s 75us/step - loss: 0.1132 - val_loss: 0.1118\n",
            "Epoch 29/50\n",
            "60000/60000 [==============================] - 5s 75us/step - loss: 0.1124 - val_loss: 0.1104\n",
            "Epoch 30/50\n",
            "60000/60000 [==============================] - 4s 75us/step - loss: 0.1124 - val_loss: 0.1114\n",
            "Epoch 31/50\n",
            "60000/60000 [==============================] - 5s 75us/step - loss: 0.1119 - val_loss: 0.1107\n",
            "Epoch 32/50\n",
            "60000/60000 [==============================] - 4s 74us/step - loss: 0.1115 - val_loss: 0.1125\n",
            "Epoch 33/50\n",
            "60000/60000 [==============================] - 4s 75us/step - loss: 0.1113 - val_loss: 0.1097\n",
            "Epoch 34/50\n",
            "60000/60000 [==============================] - 4s 74us/step - loss: 0.1109 - val_loss: 0.1083\n",
            "Epoch 35/50\n",
            "60000/60000 [==============================] - 5s 75us/step - loss: 0.1102 - val_loss: 0.1087\n",
            "Epoch 36/50\n",
            "60000/60000 [==============================] - 4s 74us/step - loss: 0.1098 - val_loss: 0.1097\n",
            "Epoch 37/50\n",
            "60000/60000 [==============================] - 5s 77us/step - loss: 0.1095 - val_loss: 0.1086\n",
            "Epoch 38/50\n",
            "60000/60000 [==============================] - 4s 72us/step - loss: 0.1095 - val_loss: 0.1100\n",
            "Epoch 39/50\n",
            "60000/60000 [==============================] - 4s 74us/step - loss: 0.1093 - val_loss: 0.1068\n",
            "Epoch 40/50\n",
            "60000/60000 [==============================] - 4s 73us/step - loss: 0.1090 - val_loss: 0.1093\n",
            "Epoch 41/50\n",
            "60000/60000 [==============================] - 4s 75us/step - loss: 0.1084 - val_loss: 0.1088\n",
            "Epoch 42/50\n",
            "60000/60000 [==============================] - 4s 74us/step - loss: 0.1083 - val_loss: 0.1083\n",
            "Epoch 43/50\n",
            "60000/60000 [==============================] - 4s 75us/step - loss: 0.1082 - val_loss: 0.1072\n",
            "Epoch 44/50\n",
            "60000/60000 [==============================] - 4s 74us/step - loss: 0.1079 - val_loss: 0.1087\n",
            "Epoch 45/50\n",
            "60000/60000 [==============================] - 5s 76us/step - loss: 0.1073 - val_loss: 0.1071\n",
            "Epoch 46/50\n",
            "60000/60000 [==============================] - 5s 75us/step - loss: 0.1076 - val_loss: 0.1056\n",
            "Epoch 47/50\n",
            "60000/60000 [==============================] - 4s 75us/step - loss: 0.1074 - val_loss: 0.1065\n",
            "Epoch 48/50\n",
            "60000/60000 [==============================] - 4s 74us/step - loss: 0.1071 - val_loss: 0.1085\n",
            "Epoch 49/50\n",
            "60000/60000 [==============================] - 4s 74us/step - loss: 0.1068 - val_loss: 0.1042\n",
            "Epoch 50/50\n",
            "60000/60000 [==============================] - 4s 74us/step - loss: 0.1066 - val_loss: 0.1090\n"
          ],
          "name": "stdout"
        },
        {
          "output_type": "execute_result",
          "data": {
            "text/plain": [
              "<keras.callbacks.History at 0x7fed09fa1e48>"
            ]
          },
          "metadata": {
            "tags": []
          },
          "execution_count": 27
        }
      ]
    },
    {
      "metadata": {
        "id": "R324gtPI2qJ_",
        "colab_type": "code",
        "outputId": "86b2b79e-b11a-4d3b-c339-6a84a9745335",
        "colab": {
          "base_uri": "https://localhost:8080/",
          "height": 188
        }
      },
      "cell_type": "code",
      "source": [
        "# get experience with the tensorboard\n",
        "! tensorboard --logdir=/tmp/autoencoder"
      ],
      "execution_count": 0,
      "outputs": [
        {
          "output_type": "stream",
          "text": [
            "\u001b[33mW1220 14:01:08.676446 Reloader plugin_event_accumulator.py:286] Found more than one graph event per run, or there was a metagraph containing a graph_def, as well as one or more graph events.  Overwriting the graph with the newest event.\n",
            "\u001b[0mW1220 14:01:08.676445 140435740092160 plugin_event_accumulator.py:286] Found more than one graph event per run, or there was a metagraph containing a graph_def, as well as one or more graph events.  Overwriting the graph with the newest event.\n",
            "\u001b[33mW1220 14:01:08.678702 Reloader plugin_event_accumulator.py:294] Found more than one metagraph event per run. Overwriting the metagraph with the newest event.\n",
            "\u001b[0mW1220 14:01:08.678702 140435740092160 plugin_event_accumulator.py:294] Found more than one metagraph event per run. Overwriting the metagraph with the newest event.\n",
            "\u001b[33mW1220 14:01:08.699223 Reloader plugin_event_accumulator.py:286] Found more than one graph event per run, or there was a metagraph containing a graph_def, as well as one or more graph events.  Overwriting the graph with the newest event.\n",
            "\u001b[0mW1220 14:01:08.699223 140435740092160 plugin_event_accumulator.py:286] Found more than one graph event per run, or there was a metagraph containing a graph_def, as well as one or more graph events.  Overwriting the graph with the newest event.\n",
            "\u001b[33mW1220 14:01:08.701624 Reloader plugin_event_accumulator.py:294] Found more than one metagraph event per run. Overwriting the metagraph with the newest event.\n",
            "\u001b[0mW1220 14:01:08.701623 140435740092160 plugin_event_accumulator.py:294] Found more than one metagraph event per run. Overwriting the metagraph with the newest event.\n",
            "TensorBoard 1.12.1 at http://0b0b7fb7a1b5:6006 (Press CTRL+C to quit)\n"
          ],
          "name": "stdout"
        }
      ]
    },
    {
      "metadata": {
        "id": "eQf6-y-P2wVl",
        "colab_type": "code",
        "outputId": "ba9815a2-90a1-48e4-c4ef-3a8549d2a311",
        "colab": {
          "base_uri": "https://localhost:8080/",
          "height": 244
        }
      },
      "cell_type": "code",
      "source": [
        "# lets visualize the results\n",
        "decoded_imgs = autoencoder.predict(x_test)\n",
        "\n",
        "n = 10\n",
        "plt.figure(figsize=(20, 4))\n",
        "for i in range(n):\n",
        "    # display original\n",
        "    ax = plt.subplot(2, n, i+1)\n",
        "    plt.imshow(x_test[i].reshape(28, 28))\n",
        "    plt.gray()\n",
        "    ax.get_xaxis().set_visible(False)\n",
        "    ax.get_yaxis().set_visible(False)\n",
        "\n",
        "    # display reconstruction\n",
        "    ax = plt.subplot(2, n, i + n + 1)\n",
        "    plt.imshow(decoded_imgs[i].reshape(28, 28))\n",
        "    plt.gray()\n",
        "    ax.get_xaxis().set_visible(False)\n",
        "    ax.get_yaxis().set_visible(False)\n",
        "plt.show()"
      ],
      "execution_count": 0,
      "outputs": [
        {
          "output_type": "display_data",
          "data": {
            "image/png": "[encoded data removed]",
            "text/plain": [
              "<matplotlib.figure.Figure at 0x7fed0a468c18>"
            ]
          },
          "metadata": {
            "tags": []
          }
        }
      ]
    },
    {
      "metadata": {
        "id": "jHRc7E6V4Hsg",
        "colab_type": "code",
        "colab": {}
      },
      "cell_type": "code",
      "source": [
        "# so now as we can see that the loss is less and the accuracy of the generated images also improved\n",
        "# lets now dive into the application of autoencoders..."
      ],
      "execution_count": 0,
      "outputs": []
    }
  ]
}