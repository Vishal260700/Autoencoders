{
  "nbformat": 4,
  "nbformat_minor": 0,
  "metadata": {
    "colab": {
      "name": "Shallow Autoencoder.ipynb",
      "version": "0.3.2",
      "provenance": [],
      "collapsed_sections": []
    },
    "kernelspec": {
      "name": "python3",
      "display_name": "Python 3"
    },
    "accelerator": "TPU"
  },
  "cells": [
    {
      "metadata": {
        "id": "bQ76Ud7vmo63",
        "colab_type": "code",
        "colab": {}
      },
      "cell_type": "code",
      "source": [
        "# call in all the dependencies\n",
        "import tensorflow as tf\n",
        "from tensorflow import keras\n",
        "from keras.layers import Dense, Input\n",
        "from keras.models import Model\n",
        "from keras.datasets import mnist\n",
        "import numpy as np\n",
        "import matplotlib.pyplot as plt"
      ],
      "execution_count": 0,
      "outputs": []
    },
    {
      "metadata": {
        "id": "f9SCp4YKnGPt",
        "colab_type": "code",
        "outputId": "b1e6c94f-87f1-490c-d5c5-6120b3ad3bd0",
        "colab": {
          "base_uri": "https://localhost:8080/",
          "height": 50
        }
      },
      "cell_type": "code",
      "source": [
        "# we care only of the images no need of the labels\n",
        "(x_train , _) , (x_test , _) = mnist.load_data()\n",
        "\n",
        "# normalization\n",
        "x_train = x_train / 255.0\n",
        "x_test = x_test / 255.0\n",
        "# creating data into a single vector of 784 length\n",
        "x_train = x_train.reshape((len(x_train), np.prod(x_train.shape[1:])))\n",
        "x_test = x_test.reshape((len(x_test), np.prod(x_test.shape[1:])))\n",
        "\n",
        "print(x_train.shape)\n",
        "print(x_test.shape)\n"
      ],
      "execution_count": 0,
      "outputs": [
        {
          "output_type": "stream",
          "text": [
            "(60000, 784)\n",
            "(10000, 784)\n"
          ],
          "name": "stdout"
        }
      ]
    },
    {
      "metadata": {
        "id": "aGZA4yqwnXpq",
        "colab_type": "code",
        "colab": {}
      },
      "cell_type": "code",
      "source": [
        "# so we have our data ready for training \n",
        "# lets make our model Autoencoder\n",
        "\n",
        "encoder_dim = 32 # so we have a compression ratio of 24.5 i.e. 784/32\n",
        "\n",
        "# input layer for our model\n",
        "input_img = Input(shape = (784,))\n",
        "\n",
        "# layers for our model which are stacked together\n",
        "encoded = Dense(encoder_dim ,activation = 'relu')(input_img)\n",
        "decoded = Dense(784 , activation = 'sigmoid')(encoded)\n",
        "\n",
        "# this is our model calling in decoded layer\n",
        "autoencoder = Model(input_img , decoded)"
      ],
      "execution_count": 0,
      "outputs": []
    },
    {
      "metadata": {
        "id": "j838urWZo8QB",
        "colab_type": "code",
        "colab": {}
      },
      "cell_type": "code",
      "source": [
        "# lets train our model\n",
        "autoencoder.compile(loss = \"binary_crossentropy\" , optimizer = \"adadelta\")"
      ],
      "execution_count": 0,
      "outputs": []
    },
    {
      "metadata": {
        "id": "AD5gs8yNpUHc",
        "colab_type": "code",
        "outputId": "c92a4f46-c822-4588-d000-4ae67e02f983",
        "colab": {
          "base_uri": "https://localhost:8080/",
          "height": 1730
        }
      },
      "cell_type": "code",
      "source": [
        "autoencoder.fit(x_train , x_train,\n",
        "                epochs = 50,\n",
        "                batch_size = 256,\n",
        "                shuffle = True,\n",
        "                validation_data = (x_test , x_test))"
      ],
      "execution_count": 0,
      "outputs": [
        {
          "output_type": "stream",
          "text": [
            "Train on 60000 samples, validate on 10000 samples\n",
            "Epoch 1/50\n",
            "60000/60000 [==============================] - 5s 87us/step - loss: 0.3545 - val_loss: 0.2707\n",
            "Epoch 2/50\n",
            "60000/60000 [==============================] - 5s 78us/step - loss: 0.2629 - val_loss: 0.2517\n",
            "Epoch 3/50\n",
            "60000/60000 [==============================] - 5s 78us/step - loss: 0.2418 - val_loss: 0.2296\n",
            "Epoch 4/50\n",
            "60000/60000 [==============================] - 5s 84us/step - loss: 0.2221 - val_loss: 0.2129\n",
            "Epoch 5/50\n",
            "60000/60000 [==============================] - 5s 83us/step - loss: 0.2082 - val_loss: 0.2011\n",
            "Epoch 6/50\n",
            "60000/60000 [==============================] - 5s 79us/step - loss: 0.1979 - val_loss: 0.1919\n",
            "Epoch 7/50\n",
            "60000/60000 [==============================] - 5s 79us/step - loss: 0.1895 - val_loss: 0.1844\n",
            "Epoch 8/50\n",
            "60000/60000 [==============================] - 5s 78us/step - loss: 0.1826 - val_loss: 0.1781\n",
            "Epoch 9/50\n",
            "60000/60000 [==============================] - 5s 78us/step - loss: 0.1766 - val_loss: 0.1725\n",
            "Epoch 10/50\n",
            "60000/60000 [==============================] - 5s 78us/step - loss: 0.1714 - val_loss: 0.1675\n",
            "Epoch 11/50\n",
            "60000/60000 [==============================] - 5s 77us/step - loss: 0.1666 - val_loss: 0.1630\n",
            "Epoch 12/50\n",
            "60000/60000 [==============================] - 5s 79us/step - loss: 0.1622 - val_loss: 0.1588\n",
            "Epoch 13/50\n",
            "60000/60000 [==============================] - 5s 79us/step - loss: 0.1582 - val_loss: 0.1550\n",
            "Epoch 14/50\n",
            "60000/60000 [==============================] - 5s 86us/step - loss: 0.1547 - val_loss: 0.1516\n",
            "Epoch 15/50\n",
            "60000/60000 [==============================] - 5s 79us/step - loss: 0.1514 - val_loss: 0.1485\n",
            "Epoch 16/50\n",
            "60000/60000 [==============================] - 5s 78us/step - loss: 0.1484 - val_loss: 0.1457\n",
            "Epoch 17/50\n",
            "60000/60000 [==============================] - 5s 77us/step - loss: 0.1457 - val_loss: 0.1430\n",
            "Epoch 18/50\n",
            "60000/60000 [==============================] - 5s 78us/step - loss: 0.1431 - val_loss: 0.1404\n",
            "Epoch 19/50\n",
            "60000/60000 [==============================] - 5s 77us/step - loss: 0.1407 - val_loss: 0.1380\n",
            "Epoch 20/50\n",
            "60000/60000 [==============================] - 5s 76us/step - loss: 0.1384 - val_loss: 0.1358\n",
            "Epoch 21/50\n",
            "60000/60000 [==============================] - 5s 76us/step - loss: 0.1362 - val_loss: 0.1337\n",
            "Epoch 22/50\n",
            "60000/60000 [==============================] - 5s 77us/step - loss: 0.1341 - val_loss: 0.1316\n",
            "Epoch 23/50\n",
            "60000/60000 [==============================] - 5s 77us/step - loss: 0.1321 - val_loss: 0.1296\n",
            "Epoch 24/50\n",
            "60000/60000 [==============================] - 5s 77us/step - loss: 0.1302 - val_loss: 0.1277\n",
            "Epoch 25/50\n",
            "60000/60000 [==============================] - 5s 79us/step - loss: 0.1283 - val_loss: 0.1258\n",
            "Epoch 26/50\n",
            "60000/60000 [==============================] - 5s 77us/step - loss: 0.1266 - val_loss: 0.1241\n",
            "Epoch 27/50\n",
            "60000/60000 [==============================] - 5s 77us/step - loss: 0.1249 - val_loss: 0.1225\n",
            "Epoch 28/50\n",
            "60000/60000 [==============================] - 5s 77us/step - loss: 0.1233 - val_loss: 0.1210\n",
            "Epoch 29/50\n",
            "60000/60000 [==============================] - 5s 77us/step - loss: 0.1218 - val_loss: 0.1196\n",
            "Epoch 30/50\n",
            "60000/60000 [==============================] - 5s 77us/step - loss: 0.1204 - val_loss: 0.1181\n",
            "Epoch 31/50\n",
            "60000/60000 [==============================] - 5s 78us/step - loss: 0.1191 - val_loss: 0.1169\n",
            "Epoch 32/50\n",
            "60000/60000 [==============================] - 5s 77us/step - loss: 0.1179 - val_loss: 0.1157\n",
            "Epoch 33/50\n",
            "60000/60000 [==============================] - 5s 76us/step - loss: 0.1167 - val_loss: 0.1146\n",
            "Epoch 34/50\n",
            "60000/60000 [==============================] - 5s 77us/step - loss: 0.1156 - val_loss: 0.1135\n",
            "Epoch 35/50\n",
            "60000/60000 [==============================] - 5s 77us/step - loss: 0.1146 - val_loss: 0.1124\n",
            "Epoch 36/50\n",
            "60000/60000 [==============================] - 5s 78us/step - loss: 0.1136 - val_loss: 0.1115\n",
            "Epoch 37/50\n",
            "60000/60000 [==============================] - 5s 79us/step - loss: 0.1127 - val_loss: 0.1106\n",
            "Epoch 38/50\n",
            "60000/60000 [==============================] - 5s 80us/step - loss: 0.1118 - val_loss: 0.1098\n",
            "Epoch 39/50\n",
            "60000/60000 [==============================] - 5s 79us/step - loss: 0.1109 - val_loss: 0.1089\n",
            "Epoch 40/50\n",
            "60000/60000 [==============================] - 5s 80us/step - loss: 0.1102 - val_loss: 0.1082\n",
            "Epoch 41/50\n",
            "60000/60000 [==============================] - 5s 79us/step - loss: 0.1094 - val_loss: 0.1074\n",
            "Epoch 42/50\n",
            "60000/60000 [==============================] - 5s 80us/step - loss: 0.1087 - val_loss: 0.1067\n",
            "Epoch 43/50\n",
            "60000/60000 [==============================] - 5s 80us/step - loss: 0.1080 - val_loss: 0.1061\n",
            "Epoch 44/50\n",
            "60000/60000 [==============================] - 5s 79us/step - loss: 0.1074 - val_loss: 0.1055\n",
            "Epoch 45/50\n",
            "60000/60000 [==============================] - 5s 79us/step - loss: 0.1068 - val_loss: 0.1049\n",
            "Epoch 46/50\n",
            "60000/60000 [==============================] - 5s 80us/step - loss: 0.1063 - val_loss: 0.1044\n",
            "Epoch 47/50\n",
            "60000/60000 [==============================] - 5s 79us/step - loss: 0.1057 - val_loss: 0.1039\n",
            "Epoch 48/50\n",
            "60000/60000 [==============================] - 5s 78us/step - loss: 0.1052 - val_loss: 0.1034\n",
            "Epoch 49/50\n",
            "60000/60000 [==============================] - 5s 77us/step - loss: 0.1048 - val_loss: 0.1030\n",
            "Epoch 50/50\n",
            "60000/60000 [==============================] - 5s 76us/step - loss: 0.1043 - val_loss: 0.1025\n"
          ],
          "name": "stdout"
        },
        {
          "output_type": "execute_result",
          "data": {
            "text/plain": [
              "<keras.callbacks.History at 0x7f2aa8234278>"
            ]
          },
          "metadata": {
            "tags": []
          },
          "execution_count": 42
        }
      ]
    },
    {
      "metadata": {
        "id": "CVuXLnirp7Qw",
        "colab_type": "code",
        "colab": {}
      },
      "cell_type": "code",
      "source": [
        "# these are seperate models to help us seperate the model autoencoder into its 2 parts and visualize the results\n",
        "encoder = Model(input_img , encoded)\n",
        "encoded_input = Input(shape = (encoder_dim,)) # like input_img\n",
        "decoder_layer = autoencoder.layers[-1] # the layer right before the model spits result vector\n",
        "decoder = Model(encoded_input , decoder_layer(encoded_input))"
      ],
      "execution_count": 0,
      "outputs": []
    },
    {
      "metadata": {
        "id": "GS34JJ__wuRX",
        "colab_type": "code",
        "colab": {}
      },
      "cell_type": "code",
      "source": [
        "# encoded_imgs are the images compressed\n",
        "encoded_imgs = encoder.predict(x_test)\n",
        "decoded_imgs = decoder.predict(encoded_imgs)"
      ],
      "execution_count": 0,
      "outputs": []
    },
    {
      "metadata": {
        "id": "vTOk_dNUylsc",
        "colab_type": "code",
        "outputId": "e261372f-e0c2-4092-c687-937130857f82",
        "colab": {
          "base_uri": "https://localhost:8080/",
          "height": 244
        }
      },
      "cell_type": "code",
      "source": [
        "# we will now visualse the results and their accuracy\n",
        "n = 10  \n",
        "plt.figure(figsize=(20, 4))\n",
        "for i in range(n):\n",
        "    # display original\n",
        "    ax = plt.subplot(2, n, i + 1)\n",
        "    plt.imshow(x_test[i].reshape(28, 28))\n",
        "    plt.gray()\n",
        "    ax.get_xaxis().set_visible(False)\n",
        "    ax.get_yaxis().set_visible(False)\n",
        "\n",
        "    # display reconstruction\n",
        "    ax = plt.subplot(2, n, i + 1 + n)\n",
        "    plt.imshow(decoded_imgs[i].reshape(28, 28))\n",
        "    plt.gray()\n",
        "    ax.get_xaxis().set_visible(False)\n",
        "    ax.get_yaxis().set_visible(False)\n",
        "plt.show()"
      ],
      "execution_count": 0,
      "outputs": [
        {
          "output_type": "display_data",
          "data": {
            "image/png": "[encoded data removed]",
            "text/plain": [
              "<matplotlib.figure.Figure at 0x7f2aa7785dd8>"
            ]
          },
          "metadata": {
            "tags": []
          }
        }
      ]
    },
    {
      "metadata": {
        "id": "rRjmxoRv7V9u",
        "colab_type": "code",
        "outputId": "663901f5-36e9-4103-cbf3-a3f1d82c125e",
        "colab": {
          "base_uri": "https://localhost:8080/",
          "height": 34
        }
      },
      "cell_type": "code",
      "source": [
        "change = encoded_imgs.mean() \n",
        "print(change)"
      ],
      "execution_count": 0,
      "outputs": [
        {
          "output_type": "stream",
          "text": [
            "7.035976\n"
          ],
          "name": "stdout"
        }
      ]
    },
    {
      "metadata": {
        "id": "yjWI0FGK7WVr",
        "colab_type": "code",
        "colab": {}
      },
      "cell_type": "code",
      "source": [
        "## check out the sparse autoencoder for the change we meant by the sparse autoencoder..."
      ],
      "execution_count": 0,
      "outputs": []
    }
  ]
}