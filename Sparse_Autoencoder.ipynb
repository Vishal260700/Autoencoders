{
  "nbformat": 4,
  "nbformat_minor": 0,
  "metadata": {
    "colab": {
      "name": "Sparse Autoencoder.ipynb",
      "version": "0.3.2",
      "provenance": [],
      "collapsed_sections": []
    },
    "kernelspec": {
      "name": "python3",
      "display_name": "Python 3"
    },
    "accelerator": "TPU"
  },
  "cells": [
    {
      "metadata": {
        "id": "0EHBsAIT285c",
        "colab_type": "code",
        "colab": {}
      },
      "cell_type": "code",
      "source": [
        "# call-in the dependencies\n",
        "import numpy as np\n",
        "import tensorflow as tf\n",
        "import matplotlib.pyplot as plt\n",
        "from tensorflow import keras\n",
        "from keras.layers import Input, Dense\n",
        "from keras.models import Model\n",
        "from keras.datasets import mnist\n",
        "from keras import regularizers # this is what makes a sparse autoencoder"
      ],
      "execution_count": 0,
      "outputs": []
    },
    {
      "metadata": {
        "id": "fYabDhUp3P6Q",
        "colab_type": "code",
        "outputId": "865f0ba6-c596-4eea-b6f5-8f1c9da2501a",
        "colab": {
          "base_uri": "https://localhost:8080/",
          "height": 50
        }
      },
      "cell_type": "code",
      "source": [
        "# preparing our data\n",
        "data = mnist.load_data()\n",
        "# we are concerned with images only not with labels\n",
        "(x_train , _) , (x_test , _) = data\n",
        "\n",
        "# normalization\n",
        "x_train = x_train / 255.0\n",
        "x_test = x_test / 255.0\n",
        "\n",
        "# convert the images to a 784x1 vector using numpy\n",
        "x_train = x_train.reshape((len(x_train), np.prod(x_train.shape[1:])))\n",
        "x_test = x_test.reshape((len(x_test), np.prod(x_test.shape[1:])))\n",
        "\n",
        "print(x_train.shape)\n",
        "print(x_test.shape)"
      ],
      "execution_count": 0,
      "outputs": [
        {
          "output_type": "stream",
          "text": [
            "(60000, 784)\n",
            "(10000, 784)\n"
          ],
          "name": "stdout"
        }
      ]
    },
    {
      "metadata": {
        "id": "uVHSiVRU3eUT",
        "colab_type": "code",
        "colab": {}
      },
      "cell_type": "code",
      "source": [
        "# lets make our Model autoencoder\n",
        "\n",
        "encoded_dim = 32 # we have a 24.5 compression factor i.e. 784/32\n",
        "\n",
        "# input layer\n",
        "input_img = Input(shape = (784,))\n",
        "# Other layers\n",
        "encoded = Dense(encoded_dim , activation = 'relu', activity_regularizer=regularizers.l1(10e-5))(input_img) ## the only change is here with regularizers\n",
        "decoded = Dense(784 , activation = 'sigmoid')(encoded)\n",
        "\n",
        "# defining our model\n",
        "autoencoder = Model(input_img , decoded)\n"
      ],
      "execution_count": 0,
      "outputs": []
    },
    {
      "metadata": {
        "id": "gI3qZNjJ4i7S",
        "colab_type": "code",
        "outputId": "bfd645a8-bba3-4ba4-c6c8-2467813ba1f2",
        "colab": {
          "base_uri": "https://localhost:8080/",
          "height": 1025
        }
      },
      "cell_type": "code",
      "source": [
        "# compiling our model and training\n",
        "\n",
        "autoencoder.compile(loss = \"binary_crossentropy\" , optimizer = \"adadelta\")\n",
        "\n",
        "autoencoder.fit(x_train , x_train,\n",
        "                epochs = 100,\n",
        "                batch_size = 256,\n",
        "                shuffle = True,\n",
        "                validation_data = (x_test,x_test))"
      ],
      "execution_count": 0,
      "outputs": [
        {
          "output_type": "stream",
          "text": [
            "60000/60000 [==============================] - 5s 85us/step - loss: 0.2848 - val_loss: 0.2846\n",
            "Epoch 72/100\n",
            "60000/60000 [==============================] - 5s 85us/step - loss: 0.2844 - val_loss: 0.2843\n",
            "Epoch 73/100\n",
            "60000/60000 [==============================] - 5s 82us/step - loss: 0.2841 - val_loss: 0.2839\n",
            "Epoch 74/100\n",
            "60000/60000 [==============================] - 5s 81us/step - loss: 0.2837 - val_loss: 0.2836\n",
            "Epoch 75/100\n",
            "60000/60000 [==============================] - 5s 82us/step - loss: 0.2834 - val_loss: 0.2832\n",
            "Epoch 76/100\n",
            "60000/60000 [==============================] - 5s 80us/step - loss: 0.2831 - val_loss: 0.2829\n",
            "Epoch 77/100\n",
            "60000/60000 [==============================] - 5s 80us/step - loss: 0.2828 - val_loss: 0.2826\n",
            "Epoch 78/100\n",
            "60000/60000 [==============================] - 5s 82us/step - loss: 0.2825 - val_loss: 0.2823\n",
            "Epoch 79/100\n",
            "60000/60000 [==============================] - 5s 83us/step - loss: 0.2822 - val_loss: 0.2820\n",
            "Epoch 80/100\n",
            "60000/60000 [==============================] - 5s 83us/step - loss: 0.2819 - val_loss: 0.2817\n",
            "Epoch 81/100\n",
            "60000/60000 [==============================] - 5s 83us/step - loss: 0.2816 - val_loss: 0.2814\n",
            "Epoch 82/100\n",
            "60000/60000 [==============================] - 5s 88us/step - loss: 0.2813 - val_loss: 0.2812\n",
            "Epoch 83/100\n",
            "60000/60000 [==============================] - 5s 88us/step - loss: 0.2810 - val_loss: 0.2809\n",
            "Epoch 84/100\n",
            "60000/60000 [==============================] - 5s 83us/step - loss: 0.2808 - val_loss: 0.2806\n",
            "Epoch 85/100\n",
            "60000/60000 [==============================] - 5s 82us/step - loss: 0.2805 - val_loss: 0.2804\n",
            "Epoch 86/100\n",
            "60000/60000 [==============================] - 5s 82us/step - loss: 0.2803 - val_loss: 0.2801\n",
            "Epoch 87/100\n",
            "60000/60000 [==============================] - 5s 81us/step - loss: 0.2800 - val_loss: 0.2799\n",
            "Epoch 88/100\n",
            "60000/60000 [==============================] - 5s 81us/step - loss: 0.2798 - val_loss: 0.2796\n",
            "Epoch 89/100\n",
            "60000/60000 [==============================] - 5s 81us/step - loss: 0.2796 - val_loss: 0.2794\n",
            "Epoch 90/100\n",
            "60000/60000 [==============================] - 5s 81us/step - loss: 0.2793 - val_loss: 0.2792\n",
            "Epoch 91/100\n",
            "60000/60000 [==============================] - 5s 80us/step - loss: 0.2791 - val_loss: 0.2790\n",
            "Epoch 92/100\n",
            "60000/60000 [==============================] - 5s 80us/step - loss: 0.2789 - val_loss: 0.2788\n",
            "Epoch 93/100\n",
            "60000/60000 [==============================] - 5s 81us/step - loss: 0.2787 - val_loss: 0.2785\n",
            "Epoch 94/100\n",
            "60000/60000 [==============================] - 5s 80us/step - loss: 0.2785 - val_loss: 0.2783\n",
            "Epoch 95/100\n",
            "60000/60000 [==============================] - 5s 82us/step - loss: 0.2783 - val_loss: 0.2781\n",
            "Epoch 96/100\n",
            "60000/60000 [==============================] - 5s 84us/step - loss: 0.2781 - val_loss: 0.2780\n",
            "Epoch 97/100\n",
            "60000/60000 [==============================] - 5s 84us/step - loss: 0.2779 - val_loss: 0.2778\n",
            "Epoch 98/100\n",
            "60000/60000 [==============================] - 5s 82us/step - loss: 0.2777 - val_loss: 0.2776\n",
            "Epoch 99/100\n",
            "60000/60000 [==============================] - 5s 81us/step - loss: 0.2775 - val_loss: 0.2774\n",
            "Epoch 100/100\n",
            "60000/60000 [==============================] - 5s 83us/step - loss: 0.2774 - val_loss: 0.2772\n"
          ],
          "name": "stdout"
        },
        {
          "output_type": "execute_result",
          "data": {
            "text/plain": [
              "<keras.callbacks.History at 0x7f963dc12d68>"
            ]
          },
          "metadata": {
            "tags": []
          },
          "execution_count": 14
        }
      ]
    },
    {
      "metadata": {
        "id": "aXYa19t25Yuj",
        "colab_type": "code",
        "colab": {}
      },
      "cell_type": "code",
      "source": [
        "# now lets visualize the model by seperating the model into 2\n",
        "\n",
        "encoded_model = Model(input_img , encoded)\n",
        "encoded_input = Input(shape = (encoded_dim,))\n",
        "decoded_layer = autoencoder.layers[-1]\n",
        "decoded_model = Model(encoded_input , decoded_layer(encoded_input))"
      ],
      "execution_count": 0,
      "outputs": []
    },
    {
      "metadata": {
        "id": "yvXBwVWJ7FR-",
        "colab_type": "code",
        "colab": {}
      },
      "cell_type": "code",
      "source": [
        "# lets predict the model we just made for further visualization\n",
        "encoded_imgs = encoded_model.predict(x_test)\n",
        "decoded_imgs = decoded_model.predict(encoded_imgs)"
      ],
      "execution_count": 0,
      "outputs": []
    },
    {
      "metadata": {
        "id": "Gw2XHYKl5_kz",
        "colab_type": "code",
        "outputId": "458a5270-c6a5-4456-bed7-1550e424cd2d",
        "colab": {
          "base_uri": "https://localhost:8080/",
          "height": 244
        }
      },
      "cell_type": "code",
      "source": [
        "# we will now visualse the results and their accuracy\n",
        "n = 10  \n",
        "plt.figure(figsize=(20, 4))\n",
        "for i in range(n):\n",
        "    # display original\n",
        "    ax = plt.subplot(2, n, i + 1)\n",
        "    plt.imshow(x_test[i].reshape(28, 28))\n",
        "    plt.gray()\n",
        "    ax.get_xaxis().set_visible(False)\n",
        "    ax.get_yaxis().set_visible(False)\n",
        "\n",
        "    # display reconstruction\n",
        "    ax = plt.subplot(2, n, i + 1 + n)\n",
        "    plt.imshow(decoded_imgs[i].reshape(28, 28))\n",
        "    plt.gray()\n",
        "    ax.get_xaxis().set_visible(False)\n",
        "    ax.get_yaxis().set_visible(False)\n",
        "plt.show()"
      ],
      "execution_count": 0,
      "outputs": [
        {
          "output_type": "display_data",
          "data": {
            "image/png": "[encoded data removed]",
            "text/plain": [
              "<matplotlib.figure.Figure at 0x7f963da85ba8>"
            ]
          },
          "metadata": {
            "tags": []
          }
        }
      ]
    },
    {
      "metadata": {
        "id": "oEjMDJVv6zcc",
        "colab_type": "code",
        "outputId": "a7794f30-4a88-40a8-f7a1-b58baf2486a6",
        "colab": {
          "base_uri": "https://localhost:8080/",
          "height": 34
        }
      },
      "cell_type": "code",
      "source": [
        "change = encoded_imgs.mean() \n",
        "print(change)"
      ],
      "execution_count": 0,
      "outputs": [
        {
          "output_type": "stream",
          "text": [
            "3.0203826e-06\n"
          ],
          "name": "stdout"
        }
      ]
    },
    {
      "metadata": {
        "id": "GGGQNker71db",
        "colab_type": "code",
        "colab": {}
      },
      "cell_type": "code",
      "source": [
        "# so as you can see there is a change in the sparse Autoencoder with a less mean hence the results have become twice sparser this time.\n",
        "# but still the results are not promising and not so improvment is there\n",
        "# lets try something more internse say a deep network instead of a shallow one..."
      ],
      "execution_count": 0,
      "outputs": []
    }
  ]
}